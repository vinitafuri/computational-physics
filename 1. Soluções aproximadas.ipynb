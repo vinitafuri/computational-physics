{
 "cells": [
  {
   "cell_type": "markdown",
   "id": "b643efe1-f0f1-41ec-a6c4-c2088f142837",
   "metadata": {},
   "source": [
    "# Soluções Aproximadas\n",
    "\n",
    "Técnicas numéricas de aproximação de determinados valores, como raizes de números, etc."
   ]
  },
  {
   "cell_type": "markdown",
   "id": "62c0052e-8fac-458d-a525-bfcb306dc6be",
   "metadata": {},
   "source": [
    "## 1. Método do Incremento\n",
    "\n",
    "A ideia é começar com um chute inicial menor do que o valor que se deseja encontrar. Assim, é feita uma repetição até que a diferença entre o valor real e o valor encontrado seja menor que a tolerância definida."
   ]
  },
  {
   "cell_type": "code",
   "execution_count": 6,
   "id": "adf9fde4-024a-45d7-8fb5-f794f28fd600",
   "metadata": {},
   "outputs": [
    {
     "name": "stdout",
     "output_type": "stream",
     "text": [
      "Valor encontrado: 5.000000000000004 \n",
      "Número de chutes: 5000\n"
     ]
    }
   ],
   "source": [
    "x = 125 #queremos raiz cubica de 125\n",
    "chute = 0.0 #chute inicial\n",
    "inc = 0.001 #incremento ao chute\n",
    "n_chutes = 0 #contagem do número de chutes\n",
    "epsilon = 1e-3 #tolerância/erro\n",
    "\n",
    "#o método começa aqui\n",
    "while abs(chute**3 - x) >= epsilon:\n",
    "    chute = chute + inc\n",
    "    n_chutes = n_chutes + 1\n",
    "\n",
    "print('Valor encontrado:',chute,'\\nNúmero de chutes:', n_chutes)"
   ]
  },
  {
   "cell_type": "markdown",
   "id": "927b62a5-b1c6-4003-81a0-b277adcd5194",
   "metadata": {},
   "source": [
    "## 2. Método da Bissecção\n",
    "\n",
    "Nesse caso, a ideia é que a repetição ocorra de maneira que sejam encontrados pontos médios entre a solução e o chute inicial, de modo que os próximos chutes se aproximem do valor correto a cada repetição. Novamente, o critério de parada é a tolerância pré-estabelecida. Esse método é MUITO mais eficiente do que o método apresentado acima."
   ]
  },
  {
   "cell_type": "code",
   "execution_count": 5,
   "id": "b2d54e03-0a9e-4aba-804b-d43785e0ccf0",
   "metadata": {},
   "outputs": [
    {
     "name": "stdout",
     "output_type": "stream",
     "text": [
      "Valor encontrado: 4.9999999999999964 \n",
      "Número de chutes: 49\n"
     ]
    }
   ],
   "source": [
    "x = 125 #queremo raiz cubica de 125\n",
    "epsilon = 1e-12 #tolerancia\n",
    "a = 1 \n",
    "b = x\n",
    "xm = (a+b)/2\n",
    "n_chutes = 0\n",
    "\n",
    "#o método começa aqui\n",
    "while abs(xm**3 - x) >= epsilon:\n",
    "    if xm**3 < x:\n",
    "        a = xm\n",
    "    else:\n",
    "        b = xm\n",
    "    n_chutes = n_chutes + 1\n",
    "    xm = (a+b)/2\n",
    "    \n",
    "print('Valor encontrado:',xm,'\\nNúmero de chutes:', n_chutes)"
   ]
  },
  {
   "cell_type": "code",
   "execution_count": null,
   "id": "16724c4b-16c0-4df1-814f-0884c4429a38",
   "metadata": {},
   "outputs": [],
   "source": []
  }
 ],
 "metadata": {
  "kernelspec": {
   "display_name": "Python 3 (ipykernel)",
   "language": "python",
   "name": "python3"
  },
  "language_info": {
   "codemirror_mode": {
    "name": "ipython",
    "version": 3
   },
   "file_extension": ".py",
   "mimetype": "text/x-python",
   "name": "python",
   "nbconvert_exporter": "python",
   "pygments_lexer": "ipython3",
   "version": "3.9.13"
  }
 },
 "nbformat": 4,
 "nbformat_minor": 5
}
