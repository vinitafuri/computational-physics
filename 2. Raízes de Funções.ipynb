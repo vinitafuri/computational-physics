{
 "cells": [
  {
   "cell_type": "markdown",
   "id": "1426a9f1-dd70-495e-b7cd-d0f549a27b16",
   "metadata": {},
   "source": [
    "# Raízes de funções\n",
    "\n",
    "Encontrar numericamente raízes de determinadas funções (valores para os quais $f(x) = 0$)."
   ]
  },
  {
   "cell_type": "markdown",
   "id": "83084c07-0ac6-47d5-a28f-e487e85f2d0a",
   "metadata": {},
   "source": [
    "## 1. Método da Bissecção\n",
    "\n",
    "O método da bissecção tem como objetivo reduzir o intervalo pré-estabelecido até que o valor se aproxime daquele que zera a função. O critério de parada é a tolerância estabelecida ao problema. O valor da função no ponto normalmente aproxim-se muito de zero conforme se diminui a tolerância."
   ]
  },
  {
   "cell_type": "code",
   "execution_count": 7,
   "id": "4fcf21ab-ac2d-4d39-8b83-cd3d1b5917ca",
   "metadata": {},
   "outputs": [
    {
     "name": "stdout",
     "output_type": "stream",
     "text": [
      "Raiz da função 0.3705580959795043 \n",
      "Número de chutes 33\n",
      "Valor da função no ponto encontrado 2.2069235328103787e-11\n"
     ]
    }
   ],
   "source": [
    "import numpy as np\n",
    "#definindo a função\n",
    "def f(x):\n",
    "    return 4*np.sin(x) - np.exp(x)\n",
    "\n",
    "a = 0; b = 1 #intervalo [a,b]\n",
    "xm = (a+b)/2 #x médio que vai dar o valor\n",
    "epsilon = 1e-10 #tolerância/erro\n",
    "n = 0 #numero de tentativas\n",
    "\n",
    "#o método começa aqui\n",
    "while abs(f(xm)) >= epsilon:\n",
    "    xm = (a+b)/2\n",
    "    if f(a)*f(b) > 0:\n",
    "        print('não tem zeros nesse intervalo')\n",
    "    elif f(xm)*f(b) < 0:\n",
    "        a = xm\n",
    "    elif f(xm)*f(a) < 0:\n",
    "        b = xm\n",
    "    n = n + 1\n",
    "    \n",
    "print('Raiz da função', xm,'\\nNúmero de chutes', n)\n",
    "\n",
    "print('Valor da função no ponto encontrado',f(xm))"
   ]
  },
  {
   "cell_type": "markdown",
   "id": "c75a5f4b-260b-4d7b-8425-367e93ae5afb",
   "metadata": {},
   "source": [
    "## 2. Método de Newton-Raphson\n",
    "\n",
    "Esse método se utiliza de repetições a partir do estabelecimento da aproximação dada pelo método de Newton:\n",
    "\n",
    "$$ x_{n+1} = x_n - \\frac{f(x_n)}{f'(x_n)}$$\n",
    "\n",
    "Dessa forma, é necessário saber o valor da derivada $f'(x)$ da função que se deseja calcular a raiz. É possível também calcular tal derivada numericamente."
   ]
  },
  {
   "cell_type": "code",
   "execution_count": 5,
   "id": "8883c7c6-6576-4086-87f9-389c16165c4e",
   "metadata": {},
   "outputs": [
    {
     "name": "stdout",
     "output_type": "stream",
     "text": [
      "0.37055809596982436 4\n",
      "-4.440892098500626e-16\n"
     ]
    }
   ],
   "source": [
    "import numpy as np\n",
    "\n",
    "def f(x):\n",
    "    return 4*np.sin(x) - np.exp(x)\n",
    "\n",
    "def df(x):\n",
    "    return 4*np.cos(x) - np.exp(x)\n",
    "\n",
    "a = 0; b = 1\n",
    "x0 = (a+b)/2\n",
    "epsilon = 1e-10\n",
    "n = 0\n",
    "\n",
    "#o método começa aqui\n",
    "while abs(f(x0)) >= epsilon:\n",
    "    x0 = x0 - (f(x0)/df(x0))\n",
    "    n = n + 1\n",
    "    \n",
    "print(x0, n)\n",
    "print(f(x0))"
   ]
  },
  {
   "cell_type": "markdown",
   "id": "3e45ccd0-c8de-4fb3-a425-0873ce618f29",
   "metadata": {},
   "source": [
    "## 3. Método da Secante\n",
    "\n",
    "Trata-se de um algoritmo de busca que se utiliza da determinação de secantes para se aproximar das raízes da função. A fórmula de recursão é:\n",
    "\n",
    "$$ x_{n+1} = x_n - \\frac{x_n - x_{n-1}}{f(x_n) - f(x_{n-1})} f(x_n)$$\n"
   ]
  },
  {
   "cell_type": "code",
   "execution_count": 6,
   "id": "7a7e49fb-a395-49db-b1b1-63ce6c16248a",
   "metadata": {},
   "outputs": [
    {
     "name": "stdout",
     "output_type": "stream",
     "text": [
      "0.37055809597009426 5\n",
      "6.148415110374117e-13\n"
     ]
    }
   ],
   "source": [
    "import numpy as np\n",
    "\n",
    "def f(x):\n",
    "    return 4*np.sin(x) - np.exp(x)\n",
    "\n",
    "x0 = 0.5; x1 = 0.49 #dois chutes iniciais\n",
    "xm = f(x1)*(x1-x0)/(f(x1)-f(x0))\n",
    "epsilon = 1e-9\n",
    "n = 0\n",
    "\n",
    "#o método começa aqui\n",
    "while abs(f(xm)) >= epsilon:\n",
    "    x0 = x1\n",
    "    x1 = xm\n",
    "    xm = x1 - f(x1)*(x1-x0)/(f(x1)-f(x0))\n",
    "    n = n+1\n",
    "    \n",
    "print(xm, n)\n",
    "print(f(xm))"
   ]
  }
 ],
 "metadata": {
  "kernelspec": {
   "display_name": "Python 3 (ipykernel)",
   "language": "python",
   "name": "python3"
  },
  "language_info": {
   "codemirror_mode": {
    "name": "ipython",
    "version": 3
   },
   "file_extension": ".py",
   "mimetype": "text/x-python",
   "name": "python",
   "nbconvert_exporter": "python",
   "pygments_lexer": "ipython3",
   "version": "3.9.13"
  }
 },
 "nbformat": 4,
 "nbformat_minor": 5
}
